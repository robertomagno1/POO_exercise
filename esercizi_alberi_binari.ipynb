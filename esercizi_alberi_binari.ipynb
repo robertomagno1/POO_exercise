{
 "cells": [
  {
   "cell_type": "code",
   "execution_count": 2,
   "metadata": {},
   "outputs": [],
   "source": [
    "class Node:\n",
    "    def __init__(self, data=None, left=None, right=None):\n",
    "        self._data = data\n",
    "        self._left = left\n",
    "        self._right = right\n",
    "        \n",
    "    def __str__(self):\n",
    "        s = \"(\" + str(self._data) + \", \"\n",
    "        if not self._left == None:\n",
    "            s += self._left.__str__()\n",
    "        s += \", \"\n",
    "        if not self._right == None:\n",
    "            s += self._right.__str__()\n",
    "        return s + \")\"\n",
    "    \n",
    "    def add_left(self, v):\n",
    "        self._left = v\n",
    "        \n",
    "    def add_right(self, v):\n",
    "        self._right = v"
   ]
  },
  {
   "cell_type": "markdown",
   "metadata": {},
   "source": [
    "Implementare nella classe Node un metodo onlyLeft() che restituisce True se tutti i nodi dell'albero binario radicato nel nodo su cui si chiama la funzione hanno solamente il figlio sinistro o non hanno nessun figlio."
   ]
  },
  {
   "cell_type": "code",
   "execution_count": 3,
   "metadata": {},
   "outputs": [],
   "source": [
    "class Node:\n",
    "    def __init__(self, data=None, left=None, right=None):\n",
    "        self._data = data\n",
    "        self._left = left\n",
    "        self._right = right\n",
    "        \n",
    "    def onlyLeft(self):\n",
    "        if self._right is not None:\n",
    "            return False\n",
    "        if self._left is not None:\n",
    "            return self._left.onlyLeft()\n",
    "        return True \n",
    "    \n",
    "    def onlyLeft(self):\n",
    "        if self._left==None:\n",
    "            return self._right==None\n",
    "        else:\n",
    "            return self._right==None and self._left.onlyLeft()"
   ]
  },
  {
   "cell_type": "markdown",
   "metadata": {},
   "source": [
    "Modificare le funzioni addLeft(v) e addRight(v) scritte in precedenza di modo che se il figlio fosse già presente, il nuovo nodo viene aggiunto come prima foglia a sinistra o ultima foglia a destra, rispettivamente.\n",
    "\n",
    "Suggerimenti:\n",
    "\n",
    "E' simile ad inserire un nodo nella prima o ultima posizione di un albero binario di ricerca"
   ]
  },
  {
   "cell_type": "code",
   "execution_count": null,
   "metadata": {},
   "outputs": [],
   "source": [
    "class Node:\n",
    "    def __init__(self, data=None, left=None, right=None):\n",
    "        self._data = data\n",
    "        self._left = left\n",
    "        self._right = right\n",
    "        \n",
    "    def __str__(self):\n",
    "        s = \"(\" + str(self._data) + \", \"\n",
    "        if not self._left == None:\n",
    "            s += self._left.__str__()\n",
    "        s += \", \"\n",
    "        if not self._right == None:\n",
    "            s += self._right.__str__()\n",
    "        return s + \")\"\n",
    "    \n",
    "    def addLeft(self, v):\n",
    "        if self._left == None:\n",
    "            self._left = v\n",
    "        else:\n",
    "            self._left.addLeft(v)\n",
    "        \n",
    "    def addRight(self, v):\n",
    "        if self._right == None:\n",
    "            self._right = v\n",
    "        else:\n",
    "            self._right.addRight(v)"
   ]
  },
  {
   "cell_type": "markdown",
   "metadata": {},
   "source": [
    "Implementare nella classe Node la funzione search(n) che cerca nell'albero binario un nodo il cui l'attributo _data sia uguale a n e di conseguenza restituisca True se lo trova oppure False.\n",
    "\n"
   ]
  },
  {
   "cell_type": "code",
   "execution_count": null,
   "metadata": {},
   "outputs": [],
   "source": [
    "class Node:\n",
    "    \n",
    "    def __init__(self, data=None, left=None, right=None):\n",
    "        self._data = data\n",
    "        self._left = left\n",
    "        self._right = right\n",
    "        \n",
    "\n",
    "    def search(self, n):\n",
    "        if self._data == n:\n",
    "            return True\n",
    "        else:\n",
    "            found = False\n",
    "            if not self._left == None :\n",
    "                found = self._left.search(n)\n",
    "            if not found and self._right == None :\n",
    "                found = self._right.search(n)\n",
    "            return found\n",
    "        "
   ]
  },
  {
   "cell_type": "markdown",
   "metadata": {},
   "source": [
    "Definire nella classe Node una funzione count_nodes() che calcola e restituisce il numero di nodi nel sottoalbero radicato al nodo su cui la funzione viene invocata.\n",
    "\n",
    "Suggerimento: provare ad usare la ricorsione.\n",
    "\n",
    "\n"
   ]
  },
  {
   "cell_type": "code",
   "execution_count": 4,
   "metadata": {},
   "outputs": [],
   "source": [
    "class Node:\n",
    "    \n",
    "    def __init__(self, data=None, left=None, right=None):\n",
    "        self._data = data\n",
    "        self._left = left\n",
    "        self._right = right\n",
    "        \n",
    "\n",
    "    def count_nodes(self):\n",
    "        count = 1\n",
    "        if not self._left == None:\n",
    "            count += self._left.count_nodes()\n",
    "        if not self._right == None:\n",
    "            count += self._right.count_nodes()\n",
    "        return count "
   ]
  }
 ],
 "metadata": {
  "kernelspec": {
   "display_name": "Python 3",
   "language": "python",
   "name": "python3"
  },
  "language_info": {
   "codemirror_mode": {
    "name": "ipython",
    "version": 3
   },
   "file_extension": ".py",
   "mimetype": "text/x-python",
   "name": "python",
   "nbconvert_exporter": "python",
   "pygments_lexer": "ipython3",
   "version": "3.12.3"
  },
  "orig_nbformat": 4
 },
 "nbformat": 4,
 "nbformat_minor": 2
}
