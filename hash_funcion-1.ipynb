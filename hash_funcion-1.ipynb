{
 "cells": [
  {
   "cell_type": "code",
   "execution_count": 4,
   "metadata": {},
   "outputs": [
    {
     "data": {
      "text/plain": [
       "4"
      ]
     },
     "execution_count": 4,
     "metadata": {},
     "output_type": "execute_result"
    }
   ],
   "source": [
    "def my_hash_funcion(s):\n",
    "    unicode_sum = 0\n",
    "    for i in range(len(s)):\n",
    "        unicode_sum += ord(s[i])   \n",
    "    return unicode_sum % 6\n",
    "\n",
    "my_hash_funcion(\"ciao\")"
   ]
  },
  {
   "cell_type": "code",
   "execution_count": 5,
   "metadata": {},
   "outputs": [
    {
     "data": {
      "text/plain": [
       "'g'"
      ]
     },
     "execution_count": 5,
     "metadata": {},
     "output_type": "execute_result"
    }
   ],
   "source": [
    "def my_hash_funcion(s):\n",
    "    unicode_sum = 0\n",
    "    for i in range(len(s)):\n",
    "        unicode_sum += ord(s[i])   \n",
    "    return chr((unicode_sum%6)+99)\n",
    "\n",
    "my_hash_funcion(\"ciao\")"
   ]
  }
 ],
 "metadata": {
  "kernelspec": {
   "display_name": "Python 3",
   "language": "python",
   "name": "python3"
  },
  "language_info": {
   "codemirror_mode": {
    "name": "ipython",
    "version": 3
   },
   "file_extension": ".py",
   "mimetype": "text/x-python",
   "name": "python",
   "nbconvert_exporter": "python",
   "pygments_lexer": "ipython3",
   "version": "3.12.3"
  },
  "orig_nbformat": 4
 },
 "nbformat": 4,
 "nbformat_minor": 2
}
