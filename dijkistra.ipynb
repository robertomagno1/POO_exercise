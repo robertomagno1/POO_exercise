{
 "cells": [
  {
   "cell_type": "code",
   "execution_count": 1,
   "metadata": {},
   "outputs": [],
   "source": [
    "####implementazione algoritmo di dijkstra ::\n",
    "import numpy as np \n",
    "\n",
    "\n",
    "def dijkstra(ad_matrix, start_node):\n",
    "    n = len(ad_matrix)\n",
    "    unvisited_nodes = set(range(n))\n",
    "    previous_nodes ={}\n",
    "    path_weights = np.full(n, float('inf'))\n",
    "    path_weights[start_node] = 0\n",
    "\n",
    "    while unvisited_nodes:\n",
    "        \n",
    "        current_min_node = None\n",
    "\n",
    "        for node in unvisited_nodes:\n",
    "            if current_min_node is None: \n",
    "                current_min_node = node\n",
    "            elif path_weights[node] < path_weights[current_min_node]: \n",
    "                current_min_node = node\n",
    "\n",
    "        unvisited_nodes.remove(current_min_node)\n",
    "\n",
    "        for node in unvisited_nodes:\n",
    "            if ad_matrix[node,current_min_node]:\n",
    "                # the node is a neighbor\n",
    "                weight = path_weights[current_min_node]+ad_matrix[node,current_min_node]    \n",
    "                if weight < path_weights[node]:\n",
    "                    path_weights[node]=weight \n",
    "                    previous_nodes[node]=current_min_node\n",
    "    return path_weights, previous_nodes\n",
    "\n"
   ]
  },
  {
   "cell_type": "code",
   "execution_count": null,
   "metadata": {},
   "outputs": [],
   "source": [
    "def swap(a,b):\n",
    "    return b,a  \n",
    "\n",
    "def print_path(previous_nodes, start_node, end_node):\n",
    "    path = []\n",
    "    while end_node != start_node:\n",
    "        path.append(end_node)\n",
    "        end_node = previous_nodes[end_node]\n",
    "    path.append(start_node)\n",
    "    return path[::-1]               "
   ]
  }
 ],
 "metadata": {
  "kernelspec": {
   "display_name": "Python 3",
   "language": "python",
   "name": "python3"
  },
  "language_info": {
   "codemirror_mode": {
    "name": "ipython",
    "version": 3
   },
   "file_extension": ".py",
   "mimetype": "text/x-python",
   "name": "python",
   "nbconvert_exporter": "python",
   "pygments_lexer": "ipython3",
   "version": "3.12.3"
  },
  "orig_nbformat": 4
 },
 "nbformat": 4,
 "nbformat_minor": 2
}
